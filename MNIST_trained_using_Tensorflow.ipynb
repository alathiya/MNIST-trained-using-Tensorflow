{
  "nbformat": 4,
  "nbformat_minor": 0,
  "metadata": {
    "colab": {
      "name": "MNIST trained using Tensorflow.ipynb",
      "version": "0.3.2",
      "provenance": [],
      "collapsed_sections": [],
      "include_colab_link": true
    },
    "kernelspec": {
      "name": "python3",
      "display_name": "Python 3"
    }
  },
  "cells": [
    {
      "cell_type": "markdown",
      "metadata": {
        "id": "view-in-github",
        "colab_type": "text"
      },
      "source": [
        "<a href=\"https://colab.research.google.com/github/alathiya/MNIST-trained-using-Tensorflow/blob/master/MNIST_trained_using_Tensorflow.ipynb\" target=\"_parent\"><img src=\"https://colab.research.google.com/assets/colab-badge.svg\" alt=\"Open In Colab\"/></a>"
      ]
    },
    {
      "cell_type": "markdown",
      "metadata": {
        "id": "tOoyQ70H00_s",
        "colab_type": "text"
      },
      "source": [
        "## MSNIT Implementation in Tensorflow\n",
        "\n",
        "- Model trained on 60,000 images and evaluated test accuracy on 10,000 images\n",
        "- Callback used to stop training when train accuracy >= 0.99\n",
        "- Test accuracy evaluated \n",
        "- Prediction on test images and compared to ground truth"
      ]
    },
    {
      "cell_type": "code",
      "metadata": {
        "id": "uCOcfZVrleIP",
        "colab_type": "code",
        "colab": {
          "base_uri": "https://localhost:8080/",
          "height": 84
        },
        "outputId": "615d0c53-d544-4ec2-eb77-1b9925f66702"
      },
      "source": [
        "import tensorflow as tf\n",
        "mnist = tf.keras.datasets.mnist\n",
        "\n",
        "(x_train, y_train),(x_test, y_test) = mnist.load_data()\n",
        "print(x_train.shape)\n",
        "print(x_test.shape)"
      ],
      "execution_count": 1,
      "outputs": [
        {
          "output_type": "stream",
          "text": [
            "Downloading data from https://storage.googleapis.com/tensorflow/tf-keras-datasets/mnist.npz\n",
            "11493376/11490434 [==============================] - 0s 0us/step\n",
            "(60000, 28, 28)\n",
            "(10000, 28, 28)\n"
          ],
          "name": "stdout"
        }
      ]
    },
    {
      "cell_type": "code",
      "metadata": {
        "id": "jfCNTmdelyFj",
        "colab_type": "code",
        "colab": {}
      },
      "source": [
        "# Normalize training dataset and Test dataset\n",
        "x_train = x_train / 255.0\n",
        "x_test = x_test / 255.0"
      ],
      "execution_count": 0,
      "outputs": []
    },
    {
      "cell_type": "code",
      "metadata": {
        "id": "9rvXQGAA0ssC",
        "colab_type": "code",
        "colab": {
          "base_uri": "https://localhost:8080/",
          "height": 87
        },
        "outputId": "aaad1775-7a0e-4c41-aec6-f5519890eb2c"
      },
      "source": [
        "# Define model with callback\n",
        "class mycallback(tf.keras.callbacks.Callback):\n",
        "  def on_epoch_end(self, epoch, logs={}):\n",
        "    if(logs.get('acc')>0.99):\n",
        "      print(\"\\n Reached 99% accuracy on train data so cancelling training!\")\n",
        "      self.model.stop_training = True\n",
        "\n",
        "callbacks = mycallback()\n",
        "\n",
        "model = tf.keras.models.Sequential([tf.keras.layers.Flatten(input_shape=(28,28)),\n",
        "                                    tf.keras.layers.Dense(512, activation=tf.nn.relu),\n",
        "                                    tf.keras.layers.Dense(10, activation=tf.nn.softmax)\n",
        "])\n",
        "\n",
        "model.compile(optimizer='adam',\n",
        "              loss='sparse_categorical_crossentropy',\n",
        "              metrics=['accuracy'])\n"
      ],
      "execution_count": 4,
      "outputs": [
        {
          "output_type": "stream",
          "text": [
            "WARNING:tensorflow:From /usr/local/lib/python3.6/dist-packages/tensorflow/python/ops/init_ops.py:1251: calling VarianceScaling.__init__ (from tensorflow.python.ops.init_ops) with dtype is deprecated and will be removed in a future version.\n",
            "Instructions for updating:\n",
            "Call initializer instance with the dtype argument instead of passing it to the constructor\n"
          ],
          "name": "stdout"
        }
      ]
    },
    {
      "cell_type": "code",
      "metadata": {
        "id": "-XOsZxUhnBLL",
        "colab_type": "code",
        "colab": {
          "base_uri": "https://localhost:8080/",
          "height": 235
        },
        "outputId": "c971215c-d65c-4a59-fe04-cb0dfedf3c23"
      },
      "source": [
        "# train model and stop when train accu is greated than or equal to 99%\n",
        "model.fit(x_train, y_train, epochs=10, callbacks=[callbacks])"
      ],
      "execution_count": 5,
      "outputs": [
        {
          "output_type": "stream",
          "text": [
            "Epoch 1/10\n",
            "60000/60000 [==============================] - 10s 175us/sample - loss: 0.1970 - acc: 0.9420\n",
            "Epoch 2/10\n",
            "60000/60000 [==============================] - 10s 169us/sample - loss: 0.0801 - acc: 0.9754\n",
            "Epoch 3/10\n",
            "60000/60000 [==============================] - 10s 168us/sample - loss: 0.0514 - acc: 0.9836\n",
            "Epoch 4/10\n",
            "60000/60000 [==============================] - 10s 160us/sample - loss: 0.0379 - acc: 0.9877\n",
            "Epoch 5/10\n",
            "59936/60000 [============================>.] - ETA: 0s - loss: 0.0263 - acc: 0.9917\n",
            " Reached 99% accuracy on train data so cancelling training!\n",
            "60000/60000 [==============================] - 10s 162us/sample - loss: 0.0263 - acc: 0.9917\n"
          ],
          "name": "stdout"
        },
        {
          "output_type": "execute_result",
          "data": {
            "text/plain": [
              "<tensorflow.python.keras.callbacks.History at 0x7fab177f95f8>"
            ]
          },
          "metadata": {
            "tags": []
          },
          "execution_count": 5
        }
      ]
    },
    {
      "cell_type": "code",
      "metadata": {
        "id": "scuF5-WKnSPI",
        "colab_type": "code",
        "colab": {
          "base_uri": "https://localhost:8080/",
          "height": 67
        },
        "outputId": "47569b1f-2981-47a8-ac7e-81429996ee29"
      },
      "source": [
        "# evaluate accuracy on test data\n",
        "test_loss, test_acc = model.evaluate(x_test, y_test)\n",
        "print(\"\\nTest Accuracy = {}\".format(test_acc))"
      ],
      "execution_count": 6,
      "outputs": [
        {
          "output_type": "stream",
          "text": [
            "10000/10000 [==============================] - 1s 60us/sample - loss: 0.0697 - acc: 0.9798\n",
            "\n",
            "Test Accuracy = 0.9797999858856201\n"
          ],
          "name": "stdout"
        }
      ]
    },
    {
      "cell_type": "code",
      "metadata": {
        "id": "NGe6vBtnoX_x",
        "colab_type": "code",
        "colab": {
          "base_uri": "https://localhost:8080/",
          "height": 336
        },
        "outputId": "6aea3f68-0a1b-4259-a2d9-568503a925ff"
      },
      "source": [
        "# predict on sample test images\n",
        "import numpy as np\n",
        "import matplotlib as plt\n",
        "\n",
        "test_img = np.expand_dims(x_test[5], axis=0)\n",
        "prediction = model.predict(test_img)\n",
        "plt.pyplot.imshow(x_test[5])\n",
        "print(\"\\nGround Truth:{}\".format(y_test[5]))\n",
        "print(\"\\n Prediction probablity of image:{}\".format(round(np.max(prediction),4)))"
      ],
      "execution_count": 28,
      "outputs": [
        {
          "output_type": "stream",
          "text": [
            "\n",
            "Ground Truth:1\n",
            "\n",
            " Prediction probablity of image:0.9997000098228455\n"
          ],
          "name": "stdout"
        },
        {
          "output_type": "display_data",
          "data": {
            "image/png": "[encoded data removed]",
            "text/plain": [
              "<Figure size 432x288 with 1 Axes>"
            ]
          },
          "metadata": {
            "tags": []
          }
        }
      ]
    },
    {
      "cell_type": "code",
      "metadata": {
        "id": "hoeqjG96pL9C",
        "colab_type": "code",
        "colab": {}
      },
      "source": [
        ""
      ],
      "execution_count": 0,
      "outputs": []
    }
  ]
}